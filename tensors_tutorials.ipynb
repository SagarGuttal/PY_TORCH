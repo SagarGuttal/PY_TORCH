{
 "cells": [
  {
   "cell_type": "code",
   "execution_count": 2,
   "metadata": {},
   "outputs": [
    {
     "name": "stderr",
     "output_type": "stream",
     "text": [
      "c:\\Users\\chakr\\AppData\\Local\\Programs\\Python\\Python310\\lib\\site-packages\\tqdm\\auto.py:22: TqdmWarning: IProgress not found. Please update jupyter and ipywidgets. See https://ipywidgets.readthedocs.io/en/stable/user_install.html\n",
      "  from .autonotebook import tqdm as notebook_tqdm\n"
     ]
    }
   ],
   "source": [
    "import torch\n",
    "import numpy as np"
   ]
  },
  {
   "cell_type": "code",
   "execution_count": 3,
   "metadata": {},
   "outputs": [
    {
     "name": "stdout",
     "output_type": "stream",
     "text": [
      "[[1, 2], [3, 4]]\n",
      "<class 'list'>\n",
      "tensor([[1, 2],\n",
      "        [3, 4]])\n",
      "<class 'torch.Tensor'>\n"
     ]
    }
   ],
   "source": [
    "#converting data to tensor\n",
    "data = [[1,2],[3,4]]\n",
    "print(data)\n",
    "print(type(data))\n",
    "X_data =  torch.tensor(data)\n",
    "print(X_data)\n",
    "print(type(X_data))"
   ]
  },
  {
   "cell_type": "code",
   "execution_count": 4,
   "metadata": {},
   "outputs": [
    {
     "name": "stdout",
     "output_type": "stream",
     "text": [
      "numpy array :- [[1 2]\n",
      " [3 4]] and type <class 'numpy.ndarray'>\n",
      "pytorch tensor :- tensor([[1, 2],\n",
      "        [3, 4]], dtype=torch.int32) and type <class 'torch.Tensor'>\n"
     ]
    }
   ],
   "source": [
    "#converting array to tensor\n",
    "np_array = np.array([[1,2],[3,4]])\n",
    "x_np = torch.from_numpy(np_array)\n",
    "print(f\"numpy array :- {np_array} and type {type(np_array)}\")\n",
    "print(f\"pytorch tensor :- {x_np} and type {type(x_np)}\")"
   ]
  },
  {
   "cell_type": "code",
   "execution_count": 5,
   "metadata": {},
   "outputs": [
    {
     "data": {
      "text/plain": [
       "tensor([[1, 2],\n",
       "        [3, 4]])"
      ]
     },
     "execution_count": 5,
     "metadata": {},
     "output_type": "execute_result"
    }
   ],
   "source": [
    "X_data"
   ]
  },
  {
   "cell_type": "code",
   "execution_count": 6,
   "metadata": {},
   "outputs": [
    {
     "name": "stdout",
     "output_type": "stream",
     "text": [
      "ones tensors: tensor([[1, 1],\n",
      "        [1, 1]])\n",
      "random tensors: tensor([[0.6772, 0.9258],\n",
      "        [0.4038, 0.6138]], dtype=torch.float16)\n"
     ]
    }
   ],
   "source": [
    "# From another tensor:\n",
    "# The new tensor retains the properties (shape, datatype) of the argument tensor, unless explicitly overridden\n",
    "\n",
    "x_ones = torch.ones_like(X_data) # retains the properties of x_data\n",
    "x_rand = torch.rand_like(X_data, dtype=torch.float16) # # overrides the datatype of x_data\n",
    "\n",
    "print(f\"ones tensors: {x_ones}\")\n",
    "print(f\"random tensors: {x_rand}\")"
   ]
  },
  {
   "cell_type": "code",
   "execution_count": 7,
   "metadata": {},
   "outputs": [
    {
     "name": "stdout",
     "output_type": "stream",
     "text": [
      "Created tensor tensor([[9.9184e-39, 8.7245e-39, 9.2755e-39],\n",
      "        [8.9082e-39, 9.9184e-39, 8.4490e-39],\n",
      "        [9.6429e-39, 1.0653e-38, 1.0469e-38],\n",
      "        [4.2246e-39, 1.0378e-38, 9.6429e-39],\n",
      "        [9.2755e-39, 9.7346e-39, 1.0745e-38]]) and shape of tensor torch.Size([5, 3])\n"
     ]
    }
   ],
   "source": [
    "# creating 5*3 tensor \n",
    "t = torch.empty(5,3)\n",
    "print(f\"Created tensor {t} and shape of tensor {t.shape}\")"
   ]
  },
  {
   "cell_type": "code",
   "execution_count": 8,
   "metadata": {},
   "outputs": [
    {
     "data": {
      "text/plain": [
       "tensor([[0.2884, 0.7166, 0.8286],\n",
       "        [0.9323, 0.1303, 0.4356],\n",
       "        [0.2519, 0.4301, 0.4393],\n",
       "        [0.3784, 0.9995, 0.6513],\n",
       "        [0.4453, 0.4427, 0.4662]])"
      ]
     },
     "execution_count": 8,
     "metadata": {},
     "output_type": "execute_result"
    }
   ],
   "source": [
    "# randomaly initialize the tensor\n",
    "x = torch.rand(5,3)\n",
    "x"
   ]
  },
  {
   "cell_type": "code",
   "execution_count": 9,
   "metadata": {},
   "outputs": [],
   "source": [
    "# Tensor operations\n",
    "x = torch.rand(5,3)\n",
    "y = torch.rand(5,3)\n",
    "\n",
    "def tensor_operation():\n",
    "    # addition operation\n",
    "    z = x+y\n",
    "    print(x+y)"
   ]
  },
  {
   "cell_type": "code",
   "execution_count": 10,
   "metadata": {},
   "outputs": [
    {
     "name": "stdout",
     "output_type": "stream",
     "text": [
      "x -->torch.Size([4, 4]) , y -->torch.Size([16]), z--> torch.Size([2, 8])\n"
     ]
    }
   ],
   "source": [
    "# Resizing: If you want to reshape/resize a tensor, you can use “torch.view”:\n",
    "x = torch.randn(4,4)\n",
    "y = x.view(16)\n",
    "z = x.view(-1,8) ## the size -1 is inferred from other dimensions\n",
    "print(f\"x -->{x.size()} , y -->{y.size()}, z--> {z.size()}\")"
   ]
  },
  {
   "cell_type": "code",
   "execution_count": 11,
   "metadata": {},
   "outputs": [
    {
     "data": {
      "text/plain": [
       "torch.Size([4, 3])"
      ]
     },
     "execution_count": 11,
     "metadata": {},
     "output_type": "execute_result"
    }
   ],
   "source": [
    "x = torch.randn(4,3)\n",
    "z=x.view(-1,3)\n",
    "z.size()"
   ]
  },
  {
   "cell_type": "code",
   "execution_count": 12,
   "metadata": {},
   "outputs": [
    {
     "name": "stdout",
     "output_type": "stream",
     "text": [
      "t: tensor([1., 1., 1., 1., 1.])--><class 'torch.Tensor'>\n",
      "n: [1. 1. 1. 1. 1.]--><class 'numpy.ndarray'>\n"
     ]
    }
   ],
   "source": [
    "# Tensor to NumPy array\n",
    "t = torch.ones(5)\n",
    "n = t.numpy()\n",
    "print(f\"t: {t}-->{type(t)}\")\n",
    "print(f\"n: {n}-->{type(n)}\")"
   ]
  },
  {
   "cell_type": "code",
   "execution_count": 13,
   "metadata": {},
   "outputs": [
    {
     "name": "stdout",
     "output_type": "stream",
     "text": [
      "n: [1. 1. 1. 1. 1.]--><class 'numpy.ndarray'>\n",
      "t: tensor([1., 1., 1., 1., 1.], dtype=torch.float64)--><class 'torch.Tensor'>\n"
     ]
    }
   ],
   "source": [
    "# NumPy array to Tensor\n",
    "n = np.ones(5)\n",
    "t = torch.from_numpy(n)\n",
    "print(f\"n: {n}-->{type(n)}\")\n",
    "print(f\"t: {t}-->{type(t)}\")\n"
   ]
  },
  {
   "cell_type": "code",
   "execution_count": 18,
   "metadata": {},
   "outputs": [
    {
     "data": {
      "text/plain": [
       "tensor([0., 0., 0., 0., 0., 0., 0., 0., 0., 0.])"
      ]
     },
     "execution_count": 18,
     "metadata": {},
     "output_type": "execute_result"
    }
   ],
   "source": [
    "x = torch.zeros(10, dtype=torch.float)\n",
    "x"
   ]
  },
  {
   "cell_type": "code",
   "execution_count": null,
   "metadata": {},
   "outputs": [],
   "source": []
  }
 ],
 "metadata": {
  "kernelspec": {
   "display_name": "Python 3.10.5 64-bit",
   "language": "python",
   "name": "python3"
  },
  "language_info": {
   "codemirror_mode": {
    "name": "ipython",
    "version": 3
   },
   "file_extension": ".py",
   "mimetype": "text/x-python",
   "name": "python",
   "nbconvert_exporter": "python",
   "pygments_lexer": "ipython3",
   "version": "3.10.5"
  },
  "orig_nbformat": 4,
  "vscode": {
   "interpreter": {
    "hash": "05e9873f914e61cda02c6b18bf9772868b8e594a37aa5e8973f23340faa536b0"
   }
  }
 },
 "nbformat": 4,
 "nbformat_minor": 2
}
